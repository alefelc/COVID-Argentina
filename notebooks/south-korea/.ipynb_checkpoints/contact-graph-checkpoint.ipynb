{
 "cells": [
  {
   "cell_type": "markdown",
   "metadata": {},
   "source": [
    "## Setup"
   ]
  },
  {
   "cell_type": "code",
   "execution_count": 14,
   "metadata": {
    "colab": {},
    "colab_type": "code",
    "id": "UncZ0yQ5RpgZ"
   },
   "outputs": [],
   "source": [
    "import numpy as np\n",
    "import pandas as pd\n",
    "%matplotlib inline\n",
    "import matplotlib.pylab as plt\n",
    "from matplotlib import colors, cm\n",
    "import scprep\n",
    "import pygsp"
   ]
  },
  {
   "cell_type": "markdown",
   "metadata": {},
   "source": [
    "## Data loading"
   ]
  },
  {
   "cell_type": "code",
   "execution_count": 15,
   "metadata": {
    "colab": {},
    "colab_type": "code",
    "id": "8L1qmsK06aAS"
   },
   "outputs": [
    {
     "data": {
      "text/html": [
       "<div>\n",
       "<style scoped>\n",
       "    .dataframe tbody tr th:only-of-type {\n",
       "        vertical-align: middle;\n",
       "    }\n",
       "\n",
       "    .dataframe tbody tr th {\n",
       "        vertical-align: top;\n",
       "    }\n",
       "\n",
       "    .dataframe thead th {\n",
       "        text-align: right;\n",
       "    }\n",
       "</style>\n",
       "<table border=\"1\" class=\"dataframe\">\n",
       "  <thead>\n",
       "    <tr style=\"text-align: right;\">\n",
       "      <th></th>\n",
       "      <th>patient_id</th>\n",
       "      <th>global_num</th>\n",
       "      <th>date</th>\n",
       "      <th>province</th>\n",
       "      <th>city</th>\n",
       "      <th>latitude</th>\n",
       "      <th>longitude</th>\n",
       "    </tr>\n",
       "  </thead>\n",
       "  <tbody>\n",
       "    <tr>\n",
       "      <th>0</th>\n",
       "      <td>1400000001</td>\n",
       "      <td>1</td>\n",
       "      <td>2020-01-19</td>\n",
       "      <td>Incheon</td>\n",
       "      <td>Jung-gu</td>\n",
       "      <td>37.460459</td>\n",
       "      <td>126.440680</td>\n",
       "    </tr>\n",
       "    <tr>\n",
       "      <th>1</th>\n",
       "      <td>1400000001</td>\n",
       "      <td>1</td>\n",
       "      <td>2020-01-20</td>\n",
       "      <td>Incheon</td>\n",
       "      <td>Seo-gu</td>\n",
       "      <td>37.478832</td>\n",
       "      <td>126.668558</td>\n",
       "    </tr>\n",
       "    <tr>\n",
       "      <th>2</th>\n",
       "      <td>1000000001</td>\n",
       "      <td>2</td>\n",
       "      <td>2020-01-22</td>\n",
       "      <td>Gyeonggi-do</td>\n",
       "      <td>Gimpo-si</td>\n",
       "      <td>37.562143</td>\n",
       "      <td>126.801884</td>\n",
       "    </tr>\n",
       "    <tr>\n",
       "      <th>3</th>\n",
       "      <td>1000000001</td>\n",
       "      <td>2</td>\n",
       "      <td>2020-01-23</td>\n",
       "      <td>Seoul</td>\n",
       "      <td>Jung-gu</td>\n",
       "      <td>37.567454</td>\n",
       "      <td>127.005627</td>\n",
       "    </tr>\n",
       "    <tr>\n",
       "      <th>4</th>\n",
       "      <td>2000000001</td>\n",
       "      <td>3</td>\n",
       "      <td>2020-01-20</td>\n",
       "      <td>Incheon</td>\n",
       "      <td>Jung-gu</td>\n",
       "      <td>37.460459</td>\n",
       "      <td>126.440680</td>\n",
       "    </tr>\n",
       "    <tr>\n",
       "      <th>...</th>\n",
       "      <td>...</td>\n",
       "      <td>...</td>\n",
       "      <td>...</td>\n",
       "      <td>...</td>\n",
       "      <td>...</td>\n",
       "      <td>...</td>\n",
       "      <td>...</td>\n",
       "    </tr>\n",
       "    <tr>\n",
       "      <th>170</th>\n",
       "      <td>1200000031</td>\n",
       "      <td>31</td>\n",
       "      <td>2020-02-09</td>\n",
       "      <td>Daegu</td>\n",
       "      <td>Nam-gu</td>\n",
       "      <td>35.839820</td>\n",
       "      <td>128.566600</td>\n",
       "    </tr>\n",
       "    <tr>\n",
       "      <th>171</th>\n",
       "      <td>1200000031</td>\n",
       "      <td>31</td>\n",
       "      <td>2020-02-15</td>\n",
       "      <td>Daegu</td>\n",
       "      <td>Dong-gu</td>\n",
       "      <td>35.882410</td>\n",
       "      <td>128.662100</td>\n",
       "    </tr>\n",
       "    <tr>\n",
       "      <th>172</th>\n",
       "      <td>1200000031</td>\n",
       "      <td>31</td>\n",
       "      <td>2020-02-16</td>\n",
       "      <td>Daegu</td>\n",
       "      <td>Nam-gu</td>\n",
       "      <td>35.839820</td>\n",
       "      <td>128.566600</td>\n",
       "    </tr>\n",
       "    <tr>\n",
       "      <th>173</th>\n",
       "      <td>1200000031</td>\n",
       "      <td>31</td>\n",
       "      <td>2020-02-17</td>\n",
       "      <td>Daegu</td>\n",
       "      <td>Suseong-gu</td>\n",
       "      <td>35.844730</td>\n",
       "      <td>128.612300</td>\n",
       "    </tr>\n",
       "    <tr>\n",
       "      <th>174</th>\n",
       "      <td>1200000031</td>\n",
       "      <td>31</td>\n",
       "      <td>2020-02-18</td>\n",
       "      <td>Daegu</td>\n",
       "      <td>Seo-gu</td>\n",
       "      <td>35.859590</td>\n",
       "      <td>128.540600</td>\n",
       "    </tr>\n",
       "  </tbody>\n",
       "</table>\n",
       "<p>175 rows × 7 columns</p>\n",
       "</div>"
      ],
      "text/plain": [
       "     patient_id  global_num        date     province        city   latitude  \\\n",
       "0    1400000001           1  2020-01-19      Incheon     Jung-gu  37.460459   \n",
       "1    1400000001           1  2020-01-20      Incheon      Seo-gu  37.478832   \n",
       "2    1000000001           2  2020-01-22  Gyeonggi-do    Gimpo-si  37.562143   \n",
       "3    1000000001           2  2020-01-23        Seoul     Jung-gu  37.567454   \n",
       "4    2000000001           3  2020-01-20      Incheon     Jung-gu  37.460459   \n",
       "..          ...         ...         ...          ...         ...        ...   \n",
       "170  1200000031          31  2020-02-09        Daegu      Nam-gu  35.839820   \n",
       "171  1200000031          31  2020-02-15        Daegu     Dong-gu  35.882410   \n",
       "172  1200000031          31  2020-02-16        Daegu      Nam-gu  35.839820   \n",
       "173  1200000031          31  2020-02-17        Daegu  Suseong-gu  35.844730   \n",
       "174  1200000031          31  2020-02-18        Daegu      Seo-gu  35.859590   \n",
       "\n",
       "      longitude  \n",
       "0    126.440680  \n",
       "1    126.668558  \n",
       "2    126.801884  \n",
       "3    127.005627  \n",
       "4    126.440680  \n",
       "..          ...  \n",
       "170  128.566600  \n",
       "171  128.662100  \n",
       "172  128.566600  \n",
       "173  128.612300  \n",
       "174  128.540600  \n",
       "\n",
       "[175 rows x 7 columns]"
      ]
     },
     "execution_count": 15,
     "metadata": {},
     "output_type": "execute_result"
    }
   ],
   "source": [
    "df = pd.read_csv('../../data/coronavirusdataset/PatientRoute.csv')\n",
    "df"
   ]
  },
  {
   "cell_type": "markdown",
   "metadata": {
    "colab_type": "text",
    "id": "nL9NYXGEGgSc"
   },
   "source": [
    "## Contact graph"
   ]
  },
  {
   "cell_type": "code",
   "execution_count": 16,
   "metadata": {
    "colab": {},
    "colab_type": "code",
    "id": "mYJyrJYTGiMO"
   },
   "outputs": [],
   "source": [
    "from scipy.spatial.distance import pdist, squareform\n",
    "def dist(i, j):\n",
    "    df_i = df.loc[df['global_num'] == i]\n",
    "    df_j = df.loc[df['global_num'] == j]\n",
    "    min_dist = np.float64('inf')\n",
    "    for _, x in df_i.iterrows():\n",
    "        for _, y in df_j.iterrows():\n",
    "            d = np.sqrt(np.sum((x[['latitude', 'longitude']] - y[['latitude', 'longitude']])**2))\n",
    "            if d < min_dist:\n",
    "                min_dist = d\n",
    "    return min_dist\n",
    "\n",
    "D = np.array([[dist(i, j) for i in np.unique(df['global_num'])] for j in np.unique(df['global_num'])])"
   ]
  },
  {
   "cell_type": "code",
   "execution_count": 17,
   "metadata": {
    "colab": {
     "base_uri": "https://localhost:8080/",
     "height": 314
    },
    "colab_type": "code",
    "id": "yjPtPfnwG-l9",
    "outputId": "39f76ac3-33a4-4b3d-9809-4663915ec641"
   },
   "outputs": [
    {
     "data": {
      "text/plain": [
       "<matplotlib.axes._subplots.AxesSubplot at 0x1fd44d96f08>"
      ]
     },
     "execution_count": 17,
     "metadata": {},
     "output_type": "execute_result"
    },
    {
     "data": {
      "image/png": "[encoded data removed]",
      "text/plain": [
       "<Figure size 432x288 with 1 Axes>"
      ]
     },
     "metadata": {
      "needs_background": "light"
     },
     "output_type": "display_data"
    }
   ],
   "source": [
    "scprep.plot.histogram(D.flatten()[np.isfinite(D.flatten())], cutoff=0.02)"
   ]
  },
  {
   "cell_type": "code",
   "execution_count": 18,
   "metadata": {
    "colab": {},
    "colab_type": "code",
    "id": "qHYcyoGoHJ19"
   },
   "outputs": [],
   "source": [
    "W = D < 0.02"
   ]
  },
  {
   "cell_type": "code",
   "execution_count": 19,
   "metadata": {
    "colab": {
     "base_uri": "https://localhost:8080/",
     "height": 34
    },
    "colab_type": "code",
    "id": "ytSRLJx7INvX",
    "outputId": "bca413ca-520a-4b37-c925-350e159338b3"
   },
   "outputs": [
    {
     "name": "stderr",
     "output_type": "stream",
     "text": [
      "2020-03-28 14:56:27,133:[WARNING](pygsp.graphs.graph.check_weights): The main diagonal of the weight matrix is not 0!\n"
     ]
    }
   ],
   "source": [
    "G = pygsp.graphs.Graph(W, gtype='ROK Contact Map')\n",
    "G.set_coordinates()"
   ]
  },
  {
   "cell_type": "code",
   "execution_count": 20,
   "metadata": {
    "colab": {
     "base_uri": "https://localhost:8080/",
     "height": 316
    },
    "colab_type": "code",
    "id": "ipUgS2JEIOg_",
    "outputId": "b4c33c57-0fd4-4838-ae34-82d4e3139999"
   },
   "outputs": [
    {
     "data": {
      "text/plain": [
       "<matplotlib.axes._subplots.AxesSubplot at 0x1fd44b351c8>"
      ]
     },
     "execution_count": 20,
     "metadata": {},
     "output_type": "execute_result"
    },
    {
     "data": {
      "image/png": "[encoded data removed]",
      "text/plain": [
       "<Figure size 432x288 with 1 Axes>"
      ]
     },
     "metadata": {
      "needs_background": "light"
     },
     "output_type": "display_data"
    }
   ],
   "source": [
    "fig, ax = plt.subplots()\n",
    "pygsp.plotting.plot_graph(G, show_edges=True, vertex_size=0.01, ax=ax)\n",
    "scprep.plot.scatter2d(G.coords, c=np.unique(df['global_num']), legend_anchor=(1,1), ax=ax, discrete=True)"
   ]
  }
 ],
 "metadata": {
  "colab": {
   "collapsed_sections": [],
   "name": "COVID-Argentina-contact-graph.ipynb",
   "provenance": []
  },
  "kernelspec": {
   "display_name": "Python 3",
   "language": "python",
   "name": "python3"
  },
  "language_info": {
   "codemirror_mode": {
    "name": "ipython",
    "version": 3
   },
   "file_extension": ".py",
   "mimetype": "text/x-python",
   "name": "python",
   "nbconvert_exporter": "python",
   "pygments_lexer": "ipython3",
   "version": "3.7.6"
  }
 },
 "nbformat": 4,
 "nbformat_minor": 1
}
