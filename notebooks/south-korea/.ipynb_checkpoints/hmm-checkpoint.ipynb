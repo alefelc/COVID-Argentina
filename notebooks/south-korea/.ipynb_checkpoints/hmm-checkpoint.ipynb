{
 "cells": [
  {
   "cell_type": "markdown",
   "metadata": {},
   "source": [
    "## Setup"
   ]
  },
  {
   "cell_type": "code",
   "execution_count": 1,
   "metadata": {
    "colab": {},
    "colab_type": "code",
    "id": "UncZ0yQ5RpgZ"
   },
   "outputs": [],
   "source": [
    "import numpy as np\n",
    "import pandas as pd\n",
    "%matplotlib inline\n",
    "import matplotlib.pylab as plt\n",
    "from matplotlib import colors, cm\n",
    "import scprep"
   ]
  },
  {
   "cell_type": "code",
   "execution_count": 2,
   "metadata": {},
   "outputs": [],
   "source": [
    "import sys\n",
    "import os\n",
    "sys.path.append(os.path.join(\"..\", \"..\"))\n",
    "import model"
   ]
  },
  {
   "cell_type": "markdown",
   "metadata": {},
   "source": [
    "## Data loading"
   ]
  },
  {
   "cell_type": "code",
   "execution_count": 9,
   "metadata": {
    "colab": {},
    "colab_type": "code",
    "id": "8L1qmsK06aAS"
   },
   "outputs": [
    {
     "data": {
      "text/html": [
       "<div>\n",
       "<style scoped>\n",
       "    .dataframe tbody tr th:only-of-type {\n",
       "        vertical-align: middle;\n",
       "    }\n",
       "\n",
       "    .dataframe tbody tr th {\n",
       "        vertical-align: top;\n",
       "    }\n",
       "\n",
       "    .dataframe thead th {\n",
       "        text-align: right;\n",
       "    }\n",
       "</style>\n",
       "<table border=\"1\" class=\"dataframe\">\n",
       "  <thead>\n",
       "    <tr style=\"text-align: right;\">\n",
       "      <th></th>\n",
       "      <th>patient_id</th>\n",
       "      <th>global_num</th>\n",
       "      <th>date</th>\n",
       "      <th>province</th>\n",
       "      <th>city</th>\n",
       "      <th>latitude</th>\n",
       "      <th>longitude</th>\n",
       "      <th>patient</th>\n",
       "    </tr>\n",
       "  </thead>\n",
       "  <tbody>\n",
       "    <tr>\n",
       "      <th>0</th>\n",
       "      <td>1400000001</td>\n",
       "      <td>1</td>\n",
       "      <td>0</td>\n",
       "      <td>Incheon</td>\n",
       "      <td>Jung-gu</td>\n",
       "      <td>37.460459</td>\n",
       "      <td>126.440680</td>\n",
       "      <td>0</td>\n",
       "    </tr>\n",
       "    <tr>\n",
       "      <th>1</th>\n",
       "      <td>1400000001</td>\n",
       "      <td>1</td>\n",
       "      <td>1</td>\n",
       "      <td>Incheon</td>\n",
       "      <td>Seo-gu</td>\n",
       "      <td>37.478832</td>\n",
       "      <td>126.668558</td>\n",
       "      <td>0</td>\n",
       "    </tr>\n",
       "    <tr>\n",
       "      <th>2</th>\n",
       "      <td>1000000001</td>\n",
       "      <td>2</td>\n",
       "      <td>3</td>\n",
       "      <td>Gyeonggi-do</td>\n",
       "      <td>Gimpo-si</td>\n",
       "      <td>37.562143</td>\n",
       "      <td>126.801884</td>\n",
       "      <td>1</td>\n",
       "    </tr>\n",
       "    <tr>\n",
       "      <th>3</th>\n",
       "      <td>1000000001</td>\n",
       "      <td>2</td>\n",
       "      <td>4</td>\n",
       "      <td>Seoul</td>\n",
       "      <td>Jung-gu</td>\n",
       "      <td>37.567454</td>\n",
       "      <td>127.005627</td>\n",
       "      <td>1</td>\n",
       "    </tr>\n",
       "    <tr>\n",
       "      <th>4</th>\n",
       "      <td>2000000001</td>\n",
       "      <td>3</td>\n",
       "      <td>1</td>\n",
       "      <td>Incheon</td>\n",
       "      <td>Jung-gu</td>\n",
       "      <td>37.460459</td>\n",
       "      <td>126.440680</td>\n",
       "      <td>2</td>\n",
       "    </tr>\n",
       "    <tr>\n",
       "      <th>...</th>\n",
       "      <td>...</td>\n",
       "      <td>...</td>\n",
       "      <td>...</td>\n",
       "      <td>...</td>\n",
       "      <td>...</td>\n",
       "      <td>...</td>\n",
       "      <td>...</td>\n",
       "      <td>...</td>\n",
       "    </tr>\n",
       "    <tr>\n",
       "      <th>170</th>\n",
       "      <td>1200000031</td>\n",
       "      <td>31</td>\n",
       "      <td>21</td>\n",
       "      <td>Daegu</td>\n",
       "      <td>Nam-gu</td>\n",
       "      <td>35.839820</td>\n",
       "      <td>128.566600</td>\n",
       "      <td>30</td>\n",
       "    </tr>\n",
       "    <tr>\n",
       "      <th>171</th>\n",
       "      <td>1200000031</td>\n",
       "      <td>31</td>\n",
       "      <td>27</td>\n",
       "      <td>Daegu</td>\n",
       "      <td>Dong-gu</td>\n",
       "      <td>35.882410</td>\n",
       "      <td>128.662100</td>\n",
       "      <td>30</td>\n",
       "    </tr>\n",
       "    <tr>\n",
       "      <th>172</th>\n",
       "      <td>1200000031</td>\n",
       "      <td>31</td>\n",
       "      <td>28</td>\n",
       "      <td>Daegu</td>\n",
       "      <td>Nam-gu</td>\n",
       "      <td>35.839820</td>\n",
       "      <td>128.566600</td>\n",
       "      <td>30</td>\n",
       "    </tr>\n",
       "    <tr>\n",
       "      <th>173</th>\n",
       "      <td>1200000031</td>\n",
       "      <td>31</td>\n",
       "      <td>29</td>\n",
       "      <td>Daegu</td>\n",
       "      <td>Suseong-gu</td>\n",
       "      <td>35.844730</td>\n",
       "      <td>128.612300</td>\n",
       "      <td>30</td>\n",
       "    </tr>\n",
       "    <tr>\n",
       "      <th>174</th>\n",
       "      <td>1200000031</td>\n",
       "      <td>31</td>\n",
       "      <td>30</td>\n",
       "      <td>Daegu</td>\n",
       "      <td>Seo-gu</td>\n",
       "      <td>35.859590</td>\n",
       "      <td>128.540600</td>\n",
       "      <td>30</td>\n",
       "    </tr>\n",
       "  </tbody>\n",
       "</table>\n",
       "<p>175 rows × 8 columns</p>\n",
       "</div>"
      ],
      "text/plain": [
       "     patient_id  global_num  date     province        city   latitude  \\\n",
       "0    1400000001           1     0      Incheon     Jung-gu  37.460459   \n",
       "1    1400000001           1     1      Incheon      Seo-gu  37.478832   \n",
       "2    1000000001           2     3  Gyeonggi-do    Gimpo-si  37.562143   \n",
       "3    1000000001           2     4        Seoul     Jung-gu  37.567454   \n",
       "4    2000000001           3     1      Incheon     Jung-gu  37.460459   \n",
       "..          ...         ...   ...          ...         ...        ...   \n",
       "170  1200000031          31    21        Daegu      Nam-gu  35.839820   \n",
       "171  1200000031          31    27        Daegu     Dong-gu  35.882410   \n",
       "172  1200000031          31    28        Daegu      Nam-gu  35.839820   \n",
       "173  1200000031          31    29        Daegu  Suseong-gu  35.844730   \n",
       "174  1200000031          31    30        Daegu      Seo-gu  35.859590   \n",
       "\n",
       "      longitude  patient  \n",
       "0    126.440680        0  \n",
       "1    126.668558        0  \n",
       "2    126.801884        1  \n",
       "3    127.005627        1  \n",
       "4    126.440680        2  \n",
       "..          ...      ...  \n",
       "170  128.566600       30  \n",
       "171  128.662100       30  \n",
       "172  128.566600       30  \n",
       "173  128.612300       30  \n",
       "174  128.540600       30  \n",
       "\n",
       "[175 rows x 8 columns]"
      ]
     },
     "execution_count": 9,
     "metadata": {},
     "output_type": "execute_result"
    }
   ],
   "source": [
    "location_df = pd.read_csv('../../data/coronavirusdataset/PatientRoute.csv')\n",
    "location_df['patient'] = location_df['global_num'] - 1\n",
    "location_df['date'], dates = pd.factorize(location_df['date'], sort=True)\n",
    "location_df"
   ]
  },
  {
   "cell_type": "code",
   "execution_count": 24,
   "metadata": {
    "colab": {},
    "colab_type": "code",
    "id": "28PXaozzW4jO"
   },
   "outputs": [],
   "source": [
    "#ok let's try this. Let's say people 1, 6, 11, 16 and 21 are infected \n",
    "infected_num = [1, 6, 11, 16, 21]"
   ]
  },
  {
   "cell_type": "code",
   "execution_count": 14,
   "metadata": {},
   "outputs": [],
   "source": [
    "hospital_df = pd.DataFrame(columns=['patient', 'date'])\n",
    "deaths_df = pd.DataFrame(columns=['patient', 'date'])\n",
    "tests_df = pd.DataFrame(columns=['patient', 'date', 'result'])\n",
    "patients_df = pd.DataFrame({'patient': np.unique(location_df['patient'])})\n",
    "dates_df = pd.DataFrame({'date': np.unique(location_df['date'])})\n",
    "sim = {'location':location_df, 'tests':tests_df, 'hospital':hospital_df,\n",
    "       'deaths':deaths_df, 'patients':patients_df, 'dates':dates_df}"
   ]
  },
  {
   "cell_type": "markdown",
   "metadata": {},
   "source": [
    "## Modeling disease spread"
   ]
  },
  {
   "cell_type": "code",
   "execution_count": 21,
   "metadata": {},
   "outputs": [
    {
     "data": {
      "text/plain": [
       "0.5161290322580645"
      ]
     },
     "execution_count": 21,
     "metadata": {},
     "output_type": "execute_result"
    }
   ],
   "source": [
    "N_c = model.model.calculate_Nc(sim, distance_cutoff = 2)\n",
    "N_c"
   ]
  },
  {
   "cell_type": "code",
   "execution_count": 25,
   "metadata": {},
   "outputs": [
    {
     "data": {
      "text/plain": [
       "array([[1.  , 0.  , 0.  , 0.  , 0.  , 0.  , 0.  , 0.  , 0.  ],\n",
       "       [0.  , 0.  , 0.4 , 0.54, 0.06, 0.  , 0.  , 0.  , 0.  ],\n",
       "       [1.  , 0.  , 0.  , 0.  , 0.  , 0.  , 0.  , 0.  , 0.  ],\n",
       "       [1.  , 0.  , 0.  , 0.  , 0.  , 0.  , 0.  , 0.  , 0.  ],\n",
       "       [1.  , 0.  , 0.  , 0.  , 0.  , 0.  , 0.  , 0.  , 0.  ],\n",
       "       [1.  , 0.  , 0.  , 0.  , 0.  , 0.  , 0.  , 0.  , 0.  ],\n",
       "       [0.  , 0.  , 0.4 , 0.54, 0.06, 0.  , 0.  , 0.  , 0.  ],\n",
       "       [1.  , 0.  , 0.  , 0.  , 0.  , 0.  , 0.  , 0.  , 0.  ],\n",
       "       [1.  , 0.  , 0.  , 0.  , 0.  , 0.  , 0.  , 0.  , 0.  ],\n",
       "       [1.  , 0.  , 0.  , 0.  , 0.  , 0.  , 0.  , 0.  , 0.  ],\n",
       "       [1.  , 0.  , 0.  , 0.  , 0.  , 0.  , 0.  , 0.  , 0.  ],\n",
       "       [0.  , 0.  , 0.4 , 0.54, 0.06, 0.  , 0.  , 0.  , 0.  ],\n",
       "       [1.  , 0.  , 0.  , 0.  , 0.  , 0.  , 0.  , 0.  , 0.  ],\n",
       "       [1.  , 0.  , 0.  , 0.  , 0.  , 0.  , 0.  , 0.  , 0.  ],\n",
       "       [1.  , 0.  , 0.  , 0.  , 0.  , 0.  , 0.  , 0.  , 0.  ],\n",
       "       [1.  , 0.  , 0.  , 0.  , 0.  , 0.  , 0.  , 0.  , 0.  ],\n",
       "       [0.  , 0.  , 0.4 , 0.54, 0.06, 0.  , 0.  , 0.  , 0.  ],\n",
       "       [1.  , 0.  , 0.  , 0.  , 0.  , 0.  , 0.  , 0.  , 0.  ],\n",
       "       [1.  , 0.  , 0.  , 0.  , 0.  , 0.  , 0.  , 0.  , 0.  ],\n",
       "       [1.  , 0.  , 0.  , 0.  , 0.  , 0.  , 0.  , 0.  , 0.  ],\n",
       "       [1.  , 0.  , 0.  , 0.  , 0.  , 0.  , 0.  , 0.  , 0.  ],\n",
       "       [0.  , 0.  , 0.4 , 0.54, 0.06, 0.  , 0.  , 0.  , 0.  ],\n",
       "       [1.  , 0.  , 0.  , 0.  , 0.  , 0.  , 0.  , 0.  , 0.  ],\n",
       "       [1.  , 0.  , 0.  , 0.  , 0.  , 0.  , 0.  , 0.  , 0.  ],\n",
       "       [1.  , 0.  , 0.  , 0.  , 0.  , 0.  , 0.  , 0.  , 0.  ],\n",
       "       [1.  , 0.  , 0.  , 0.  , 0.  , 0.  , 0.  , 0.  , 0.  ],\n",
       "       [1.  , 0.  , 0.  , 0.  , 0.  , 0.  , 0.  , 0.  , 0.  ],\n",
       "       [1.  , 0.  , 0.  , 0.  , 0.  , 0.  , 0.  , 0.  , 0.  ],\n",
       "       [1.  , 0.  , 0.  , 0.  , 0.  , 0.  , 0.  , 0.  , 0.  ],\n",
       "       [1.  , 0.  , 0.  , 0.  , 0.  , 0.  , 0.  , 0.  , 0.  ],\n",
       "       [1.  , 0.  , 0.  , 0.  , 0.  , 0.  , 0.  , 0.  , 0.  ]])"
      ]
     },
     "execution_count": 25,
     "metadata": {},
     "output_type": "execute_result"
    }
   ],
   "source": [
    "state = model.model.initial_state(sim)\n",
    "state[infected_num,0] = 0\n",
    "state[infected_num,2] = model.constants.alpha\n",
    "state[infected_num,3] = (1-model.constants.alpha)*model.constants.mu\n",
    "state[infected_num,4] = (1-model.constants.alpha)*(1-model.constants.mu)\n",
    "state"
   ]
  },
  {
   "cell_type": "code",
   "execution_count": 26,
   "metadata": {},
   "outputs": [],
   "source": [
    "for date in sim['dates']['date']:\n",
    "    state = model.model.next_state(sim, state, date, N_c)"
   ]
  },
  {
   "cell_type": "code",
   "execution_count": 27,
   "metadata": {},
   "outputs": [
    {
     "data": {
      "text/plain": [
       "array([[0.322, 0.   , 0.003, 0.   , 0.005, 0.   , 0.008, 0.656, 0.007],\n",
       "       [0.   , 0.   , 0.003, 0.   , 0.005, 0.   , 0.009, 0.973, 0.009],\n",
       "       [0.04 , 0.   , 0.006, 0.   , 0.009, 0.   , 0.013, 0.923, 0.009],\n",
       "       [0.108, 0.   , 0.007, 0.   , 0.01 , 0.   , 0.012, 0.854, 0.008],\n",
       "       [0.047, 0.   , 0.011, 0.   , 0.017, 0.001, 0.016, 0.899, 0.008],\n",
       "       [0.053, 0.   , 0.009, 0.   , 0.015, 0.001, 0.015, 0.899, 0.008],\n",
       "       [0.   , 0.   , 0.003, 0.   , 0.005, 0.   , 0.009, 0.973, 0.009],\n",
       "       [0.121, 0.   , 0.008, 0.   , 0.013, 0.001, 0.014, 0.836, 0.008],\n",
       "       [0.483, 0.   , 0.015, 0.   , 0.024, 0.001, 0.013, 0.461, 0.003],\n",
       "       [0.341, 0.   , 0.017, 0.   , 0.026, 0.002, 0.016, 0.594, 0.004],\n",
       "       [0.341, 0.   , 0.017, 0.   , 0.026, 0.002, 0.016, 0.594, 0.004],\n",
       "       [0.   , 0.   , 0.003, 0.   , 0.005, 0.   , 0.009, 0.973, 0.009],\n",
       "       [0.53 , 0.   , 0.019, 0.   , 0.029, 0.002, 0.013, 0.404, 0.003],\n",
       "       [0.088, 0.   , 0.01 , 0.   , 0.015, 0.001, 0.014, 0.865, 0.008],\n",
       "       [0.137, 0.   , 0.011, 0.   , 0.018, 0.001, 0.014, 0.812, 0.007],\n",
       "       [0.498, 0.   , 0.008, 0.   , 0.012, 0.001, 0.01 , 0.467, 0.004],\n",
       "       [0.   , 0.   , 0.003, 0.   , 0.005, 0.   , 0.009, 0.973, 0.009],\n",
       "       [0.498, 0.   , 0.008, 0.   , 0.012, 0.001, 0.01 , 0.467, 0.004],\n",
       "       [0.07 , 0.   , 0.018, 0.   , 0.028, 0.002, 0.018, 0.857, 0.007],\n",
       "       [0.403, 0.   , 0.039, 0.   , 0.061, 0.005, 0.019, 0.471, 0.002],\n",
       "       [0.21 , 0.   , 0.024, 0.   , 0.038, 0.002, 0.02 , 0.701, 0.005],\n",
       "       [0.   , 0.   , 0.003, 0.   , 0.005, 0.   , 0.009, 0.973, 0.009],\n",
       "       [0.172, 0.   , 0.014, 0.   , 0.023, 0.001, 0.015, 0.767, 0.007],\n",
       "       [0.119, 0.   , 0.024, 0.   , 0.037, 0.003, 0.017, 0.793, 0.007],\n",
       "       [0.099, 0.   , 0.069, 0.   , 0.109, 0.009, 0.029, 0.682, 0.003],\n",
       "       [0.159, 0.   , 0.078, 0.   , 0.122, 0.01 , 0.028, 0.6  , 0.002],\n",
       "       [0.08 , 0.   , 0.043, 0.   , 0.068, 0.005, 0.026, 0.773, 0.005],\n",
       "       [0.636, 0.   , 0.058, 0.   , 0.091, 0.008, 0.011, 0.195, 0.   ],\n",
       "       [0.035, 0.   , 0.084, 0.   , 0.133, 0.011, 0.03 , 0.703, 0.003],\n",
       "       [0.068, 0.   , 0.117, 0.   , 0.184, 0.016, 0.029, 0.583, 0.002],\n",
       "       [0.463, 0.   , 0.011, 0.   , 0.018, 0.001, 0.012, 0.491, 0.004]])"
      ]
     },
     "execution_count": 27,
     "metadata": {},
     "output_type": "execute_result"
    }
   ],
   "source": [
    "state.round(3)"
   ]
  },
  {
   "cell_type": "code",
   "execution_count": null,
   "metadata": {},
   "outputs": [],
   "source": []
  }
 ],
 "metadata": {
  "colab": {
   "collapsed_sections": [],
   "name": "COVID-Argentina-contact-graph.ipynb",
   "provenance": []
  },
  "kernelspec": {
   "display_name": "Python 3",
   "language": "python",
   "name": "python3"
  },
  "language_info": {
   "codemirror_mode": {
    "name": "ipython",
    "version": 3
   },
   "file_extension": ".py",
   "mimetype": "text/x-python",
   "name": "python",
   "nbconvert_exporter": "python",
   "pygments_lexer": "ipython3",
   "version": "3.7.6"
  }
 },
 "nbformat": 4,
 "nbformat_minor": 1
}
